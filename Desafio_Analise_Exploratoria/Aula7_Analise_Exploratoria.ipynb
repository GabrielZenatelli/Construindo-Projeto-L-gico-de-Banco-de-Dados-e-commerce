{
 "nbformat": 4,
 "nbformat_minor": 0,
 "metadata": {
  "colab": {
   "name": "Aula8-Analise_Exploratoria.ipynb",
   "provenance": []
  },
  "kernelspec": {
   "name": "python3",
   "display_name": "Python 3"
  }
 },
 "cells": [
  {
   "cell_type": "code",
   "metadata": {
    "id": "G5HpRApza9UR",
    "colab_type": "code",
    "colab": {},
    "pycharm": {
     "name": "#%%\n"
    }
   },
   "source": [
    "#Importando as bibliotecas\n",
    "import pandas as pd\n",
    "import matplotlib.pyplot as plt\n",
    "plt.style.use(\"seaborn\")"
   ],
   "execution_count": 3,
   "outputs": []
  },
  {
   "cell_type": "code",
   "metadata": {
    "id": "3qLVp0Z_bUXq",
    "colab_type": "code",
    "outputId": "0aff5a55-7dc4-495b-c217-0c15f8750e35",
    "colab": {
     "resources": {
      "http://localhost:8080/nbextensions/google.colab/files.js": {
       "data": "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",
       "ok": true,
       "headers": [
        [
         "content-type",
         "application/javascript"
        ]
       ],
       "status": 200,
       "status_text": ""
      }
     },
     "base_uri": "https://localhost:8080/",
     "height": 74
    },
    "pycharm": {
     "name": "#%%\n"
    }
   },
   "source": [
    "#Upload do arquivo\n",
    "#from google.colab import files\n",
    "#arq = files.upload()"
   ],
   "execution_count": 4,
   "outputs": []
  },
  {
   "cell_type": "code",
   "metadata": {
    "id": "Rpxs2yU0ba23",
    "colab_type": "code",
    "colab": {},
    "pycharm": {
     "name": "#%%\n"
    }
   },
   "source": [
    "#Criando nosso DataFrame\n",
    "df = pd.read_excel(\"AdventureWorks.xlsx\")"
   ],
   "execution_count": 5,
   "outputs": []
  },
  {
   "cell_type": "code",
   "metadata": {
    "id": "DPOEg0MikIXG",
    "colab_type": "code",
    "outputId": "633ff3c2-2339-4b86-8110-b65b6d29e2d2",
    "colab": {
     "base_uri": "https://localhost:8080/",
     "height": 391
    },
    "pycharm": {
     "name": "#%%\n"
    }
   },
   "source": [
    "#Visualizando as 5 primeiras linhas\n",
    "df.head()"
   ],
   "execution_count": 6,
   "outputs": [
    {
     "data": {
      "text/plain": "  Data Venda Data Envio  ID Loja  ID Produto  ID Cliente       No. Venda  \\\n0 2008-05-09 2008-05-29      199         384       18839  200805093CS607   \n1 2008-05-12 2008-05-17      306         384       19051  200805123CS567   \n2 2008-05-14 2008-05-20      306         384       19052  200805143CS576   \n3 2008-05-21 2008-05-27      306         384       19052  200805213CS576   \n4 2008-06-20 2008-06-27      306         384       19053  200806203CS586   \n\n   Custo Unitário  Preço Unitário  Quantidade  Valor Desconto  Valor Venda  \\\n0          348.58           758.0           6             0.0       4548.0   \n1          348.58           758.0           6             0.0       4548.0   \n2          348.58           758.0           6             0.0       4548.0   \n3          348.58           758.0           6             0.0       4548.0   \n4          348.58           758.0           6             0.0       4548.0   \n\n                                 Produto       Fabricante            Marca  \\\n0  Adventure Works Laptop15.4W M1548 Red  Adventure Works  Adventure Works   \n1  Adventure Works Laptop15.4W M1548 Red  Adventure Works  Adventure Works   \n2  Adventure Works Laptop15.4W M1548 Red  Adventure Works  Adventure Works   \n3  Adventure Works Laptop15.4W M1548 Red  Adventure Works  Adventure Works   \n4  Adventure Works Laptop15.4W M1548 Red  Adventure Works  Adventure Works   \n\n    Classe  Cor  \n0  Regular  Red  \n1  Regular  Red  \n2  Regular  Red  \n3  Regular  Red  \n4  Regular  Red  ",
      "text/html": "<div>\n<style scoped>\n    .dataframe tbody tr th:only-of-type {\n        vertical-align: middle;\n    }\n\n    .dataframe tbody tr th {\n        vertical-align: top;\n    }\n\n    .dataframe thead th {\n        text-align: right;\n    }\n</style>\n<table border=\"1\" class=\"dataframe\">\n  <thead>\n    <tr style=\"text-align: right;\">\n      <th></th>\n      <th>Data Venda</th>\n      <th>Data Envio</th>\n      <th>ID Loja</th>\n      <th>ID Produto</th>\n      <th>ID Cliente</th>\n      <th>No. Venda</th>\n      <th>Custo Unitário</th>\n      <th>Preço Unitário</th>\n      <th>Quantidade</th>\n      <th>Valor Desconto</th>\n      <th>Valor Venda</th>\n      <th>Produto</th>\n      <th>Fabricante</th>\n      <th>Marca</th>\n      <th>Classe</th>\n      <th>Cor</th>\n    </tr>\n  </thead>\n  <tbody>\n    <tr>\n      <th>0</th>\n      <td>2008-05-09</td>\n      <td>2008-05-29</td>\n      <td>199</td>\n      <td>384</td>\n      <td>18839</td>\n      <td>200805093CS607</td>\n      <td>348.58</td>\n      <td>758.0</td>\n      <td>6</td>\n      <td>0.0</td>\n      <td>4548.0</td>\n      <td>Adventure Works Laptop15.4W M1548 Red</td>\n      <td>Adventure Works</td>\n      <td>Adventure Works</td>\n      <td>Regular</td>\n      <td>Red</td>\n    </tr>\n    <tr>\n      <th>1</th>\n      <td>2008-05-12</td>\n      <td>2008-05-17</td>\n      <td>306</td>\n      <td>384</td>\n      <td>19051</td>\n      <td>200805123CS567</td>\n      <td>348.58</td>\n      <td>758.0</td>\n      <td>6</td>\n      <td>0.0</td>\n      <td>4548.0</td>\n      <td>Adventure Works Laptop15.4W M1548 Red</td>\n      <td>Adventure Works</td>\n      <td>Adventure Works</td>\n      <td>Regular</td>\n      <td>Red</td>\n    </tr>\n    <tr>\n      <th>2</th>\n      <td>2008-05-14</td>\n      <td>2008-05-20</td>\n      <td>306</td>\n      <td>384</td>\n      <td>19052</td>\n      <td>200805143CS576</td>\n      <td>348.58</td>\n      <td>758.0</td>\n      <td>6</td>\n      <td>0.0</td>\n      <td>4548.0</td>\n      <td>Adventure Works Laptop15.4W M1548 Red</td>\n      <td>Adventure Works</td>\n      <td>Adventure Works</td>\n      <td>Regular</td>\n      <td>Red</td>\n    </tr>\n    <tr>\n      <th>3</th>\n      <td>2008-05-21</td>\n      <td>2008-05-27</td>\n      <td>306</td>\n      <td>384</td>\n      <td>19052</td>\n      <td>200805213CS576</td>\n      <td>348.58</td>\n      <td>758.0</td>\n      <td>6</td>\n      <td>0.0</td>\n      <td>4548.0</td>\n      <td>Adventure Works Laptop15.4W M1548 Red</td>\n      <td>Adventure Works</td>\n      <td>Adventure Works</td>\n      <td>Regular</td>\n      <td>Red</td>\n    </tr>\n    <tr>\n      <th>4</th>\n      <td>2008-06-20</td>\n      <td>2008-06-27</td>\n      <td>306</td>\n      <td>384</td>\n      <td>19053</td>\n      <td>200806203CS586</td>\n      <td>348.58</td>\n      <td>758.0</td>\n      <td>6</td>\n      <td>0.0</td>\n      <td>4548.0</td>\n      <td>Adventure Works Laptop15.4W M1548 Red</td>\n      <td>Adventure Works</td>\n      <td>Adventure Works</td>\n      <td>Regular</td>\n      <td>Red</td>\n    </tr>\n  </tbody>\n</table>\n</div>"
     },
     "execution_count": 6,
     "metadata": {},
     "output_type": "execute_result"
    }
   ]
  },
  {
   "cell_type": "code",
   "metadata": {
    "id": "UCJpu--kK9wo",
    "colab_type": "code",
    "outputId": "8d55d823-0742-4a54-fcb2-16df652007da",
    "colab": {
     "base_uri": "https://localhost:8080/",
     "height": 34
    },
    "pycharm": {
     "name": "#%%\n"
    }
   },
   "source": [
    "#Quantidade de linhas e colunas\n",
    "df.shape"
   ],
   "execution_count": 7,
   "outputs": [
    {
     "data": {
      "text/plain": "(904, 16)"
     },
     "execution_count": 7,
     "metadata": {},
     "output_type": "execute_result"
    }
   ]
  },
  {
   "cell_type": "code",
   "metadata": {
    "id": "P9S1i8o1lUu-",
    "colab_type": "code",
    "outputId": "6197dad1-cbfe-444a-a212-1bfa12541ebd",
    "colab": {
     "base_uri": "https://localhost:8080/",
     "height": 306
    },
    "pycharm": {
     "name": "#%%\n"
    }
   },
   "source": [
    "#Verificando os tipos de dados\n",
    "df.dtypes"
   ],
   "execution_count": 8,
   "outputs": [
    {
     "data": {
      "text/plain": "Data Venda        datetime64[ns]\nData Envio        datetime64[ns]\nID Loja                    int64\nID Produto                 int64\nID Cliente                 int64\nNo. Venda                 object\nCusto Unitário           float64\nPreço Unitário           float64\nQuantidade                 int64\nValor Desconto           float64\nValor Venda              float64\nProduto                   object\nFabricante                object\nMarca                     object\nClasse                    object\nCor                       object\ndtype: object"
     },
     "execution_count": 8,
     "metadata": {},
     "output_type": "execute_result"
    }
   ]
  },
  {
   "cell_type": "code",
   "metadata": {
    "id": "duheNX1GlhWw",
    "colab_type": "code",
    "outputId": "0b047796-3ab7-4dd4-a370-ecce8e256679",
    "colab": {
     "base_uri": "https://localhost:8080/",
     "height": 34
    },
    "pycharm": {
     "name": "#%%\n"
    }
   },
   "source": [
    "#Qual a Receita total?\n",
    "df[\"Valor Venda\"].sum()"
   ],
   "execution_count": 9,
   "outputs": [
    {
     "data": {
      "text/plain": "5984606.1426"
     },
     "execution_count": 9,
     "metadata": {},
     "output_type": "execute_result"
    }
   ]
  },
  {
   "cell_type": "code",
   "metadata": {
    "id": "IHop-35BlyDO",
    "colab_type": "code",
    "colab": {},
    "pycharm": {
     "name": "#%%\n"
    }
   },
   "source": [
    "#Qual o custo Total?\n",
    "df[\"custo\"] = df[\"Custo Unitário\"].mul(df[\"Quantidade\"]) #Criando a coluna de custo"
   ],
   "execution_count": 10,
   "outputs": []
  },
  {
   "cell_type": "code",
   "metadata": {
    "id": "3fy4QmNLmMWd",
    "colab_type": "code",
    "outputId": "b08296d5-566d-4123-a8d7-b2c4d959e935",
    "colab": {
     "base_uri": "https://localhost:8080/",
     "height": 168
    },
    "pycharm": {
     "name": "#%%\n"
    }
   },
   "source": [
    "df.head(1)"
   ],
   "execution_count": 11,
   "outputs": [
    {
     "data": {
      "text/plain": "  Data Venda Data Envio  ID Loja  ID Produto  ID Cliente       No. Venda  \\\n0 2008-05-09 2008-05-29      199         384       18839  200805093CS607   \n\n   Custo Unitário  Preço Unitário  Quantidade  Valor Desconto  Valor Venda  \\\n0          348.58           758.0           6             0.0       4548.0   \n\n                                 Produto       Fabricante            Marca  \\\n0  Adventure Works Laptop15.4W M1548 Red  Adventure Works  Adventure Works   \n\n    Classe  Cor    custo  \n0  Regular  Red  2091.48  ",
      "text/html": "<div>\n<style scoped>\n    .dataframe tbody tr th:only-of-type {\n        vertical-align: middle;\n    }\n\n    .dataframe tbody tr th {\n        vertical-align: top;\n    }\n\n    .dataframe thead th {\n        text-align: right;\n    }\n</style>\n<table border=\"1\" class=\"dataframe\">\n  <thead>\n    <tr style=\"text-align: right;\">\n      <th></th>\n      <th>Data Venda</th>\n      <th>Data Envio</th>\n      <th>ID Loja</th>\n      <th>ID Produto</th>\n      <th>ID Cliente</th>\n      <th>No. Venda</th>\n      <th>Custo Unitário</th>\n      <th>Preço Unitário</th>\n      <th>Quantidade</th>\n      <th>Valor Desconto</th>\n      <th>Valor Venda</th>\n      <th>Produto</th>\n      <th>Fabricante</th>\n      <th>Marca</th>\n      <th>Classe</th>\n      <th>Cor</th>\n      <th>custo</th>\n    </tr>\n  </thead>\n  <tbody>\n    <tr>\n      <th>0</th>\n      <td>2008-05-09</td>\n      <td>2008-05-29</td>\n      <td>199</td>\n      <td>384</td>\n      <td>18839</td>\n      <td>200805093CS607</td>\n      <td>348.58</td>\n      <td>758.0</td>\n      <td>6</td>\n      <td>0.0</td>\n      <td>4548.0</td>\n      <td>Adventure Works Laptop15.4W M1548 Red</td>\n      <td>Adventure Works</td>\n      <td>Adventure Works</td>\n      <td>Regular</td>\n      <td>Red</td>\n      <td>2091.48</td>\n    </tr>\n  </tbody>\n</table>\n</div>"
     },
     "execution_count": 11,
     "metadata": {},
     "output_type": "execute_result"
    }
   ]
  },
  {
   "cell_type": "code",
   "metadata": {
    "id": "Uj7LTfyumqcn",
    "colab_type": "code",
    "outputId": "ed0c7864-fc3c-40e2-e2e1-04182d758866",
    "colab": {
     "base_uri": "https://localhost:8080/",
     "height": 34
    },
    "pycharm": {
     "name": "#%%\n"
    }
   },
   "source": [
    "#Qual o custo Total?\n",
    "round(df[\"custo\"].sum(), 2)"
   ],
   "execution_count": 12,
   "outputs": [
    {
     "data": {
      "text/plain": "2486783.05"
     },
     "execution_count": 12,
     "metadata": {},
     "output_type": "execute_result"
    }
   ]
  },
  {
   "cell_type": "code",
   "metadata": {
    "id": "dcL7yq6dm6-R",
    "colab_type": "code",
    "colab": {},
    "pycharm": {
     "name": "#%%\n"
    }
   },
   "source": [
    "#Agora que temos a receita e custo e o total, podemos achar o Lucro total\n",
    "#Vamos criar uma coluna de Lucro que será Receita - Custo\n",
    "df[\"lucro\"]  = df[\"Valor Venda\"] - df[\"custo\"] "
   ],
   "execution_count": 13,
   "outputs": []
  },
  {
   "cell_type": "code",
   "metadata": {
    "id": "AESBzwFuqgy4",
    "colab_type": "code",
    "outputId": "a832d8aa-bbee-41c6-e823-5844dd61890c",
    "colab": {
     "base_uri": "https://localhost:8080/",
     "height": 168
    },
    "pycharm": {
     "name": "#%%\n"
    }
   },
   "source": [
    "df.head(1)"
   ],
   "execution_count": 14,
   "outputs": [
    {
     "data": {
      "text/plain": "  Data Venda Data Envio  ID Loja  ID Produto  ID Cliente       No. Venda  \\\n0 2008-05-09 2008-05-29      199         384       18839  200805093CS607   \n\n   Custo Unitário  Preço Unitário  Quantidade  Valor Desconto  Valor Venda  \\\n0          348.58           758.0           6             0.0       4548.0   \n\n                                 Produto       Fabricante            Marca  \\\n0  Adventure Works Laptop15.4W M1548 Red  Adventure Works  Adventure Works   \n\n    Classe  Cor    custo    lucro  \n0  Regular  Red  2091.48  2456.52  ",
      "text/html": "<div>\n<style scoped>\n    .dataframe tbody tr th:only-of-type {\n        vertical-align: middle;\n    }\n\n    .dataframe tbody tr th {\n        vertical-align: top;\n    }\n\n    .dataframe thead th {\n        text-align: right;\n    }\n</style>\n<table border=\"1\" class=\"dataframe\">\n  <thead>\n    <tr style=\"text-align: right;\">\n      <th></th>\n      <th>Data Venda</th>\n      <th>Data Envio</th>\n      <th>ID Loja</th>\n      <th>ID Produto</th>\n      <th>ID Cliente</th>\n      <th>No. Venda</th>\n      <th>Custo Unitário</th>\n      <th>Preço Unitário</th>\n      <th>Quantidade</th>\n      <th>Valor Desconto</th>\n      <th>Valor Venda</th>\n      <th>Produto</th>\n      <th>Fabricante</th>\n      <th>Marca</th>\n      <th>Classe</th>\n      <th>Cor</th>\n      <th>custo</th>\n      <th>lucro</th>\n    </tr>\n  </thead>\n  <tbody>\n    <tr>\n      <th>0</th>\n      <td>2008-05-09</td>\n      <td>2008-05-29</td>\n      <td>199</td>\n      <td>384</td>\n      <td>18839</td>\n      <td>200805093CS607</td>\n      <td>348.58</td>\n      <td>758.0</td>\n      <td>6</td>\n      <td>0.0</td>\n      <td>4548.0</td>\n      <td>Adventure Works Laptop15.4W M1548 Red</td>\n      <td>Adventure Works</td>\n      <td>Adventure Works</td>\n      <td>Regular</td>\n      <td>Red</td>\n      <td>2091.48</td>\n      <td>2456.52</td>\n    </tr>\n  </tbody>\n</table>\n</div>"
     },
     "execution_count": 14,
     "metadata": {},
     "output_type": "execute_result"
    }
   ]
  },
  {
   "cell_type": "code",
   "metadata": {
    "id": "odfh78ayqpN4",
    "colab_type": "code",
    "outputId": "8e29504f-0eb5-4bc7-8312-ae1df3d7de5f",
    "colab": {
     "base_uri": "https://localhost:8080/",
     "height": 34
    },
    "pycharm": {
     "name": "#%%\n"
    }
   },
   "source": [
    "#Total Lucro\n",
    "round(df[\"lucro\"].sum(),2)"
   ],
   "execution_count": 15,
   "outputs": [
    {
     "data": {
      "text/plain": "3497823.09"
     },
     "execution_count": 15,
     "metadata": {},
     "output_type": "execute_result"
    }
   ]
  },
  {
   "cell_type": "code",
   "metadata": {
    "id": "dOlaVDsFqv-t",
    "colab_type": "code",
    "colab": {},
    "pycharm": {
     "name": "#%%\n"
    }
   },
   "source": [
    "#Criando uma coluna com total de dias para enviar o produto\n",
    "df[\"Tempo_envio\"] = df[\"Data Envio\"] - df[\"Data Venda\"]"
   ],
   "execution_count": 16,
   "outputs": []
  },
  {
   "cell_type": "code",
   "metadata": {
    "id": "xzf6mIH5r3vy",
    "colab_type": "code",
    "outputId": "e5444795-08c5-434f-b88a-0043c6fb2c66",
    "colab": {
     "base_uri": "https://localhost:8080/",
     "height": 168
    },
    "pycharm": {
     "name": "#%%\n"
    }
   },
   "source": [
    "df.head(1)"
   ],
   "execution_count": 17,
   "outputs": [
    {
     "data": {
      "text/plain": "  Data Venda Data Envio  ID Loja  ID Produto  ID Cliente       No. Venda  \\\n0 2008-05-09 2008-05-29      199         384       18839  200805093CS607   \n\n   Custo Unitário  Preço Unitário  Quantidade  Valor Desconto  Valor Venda  \\\n0          348.58           758.0           6             0.0       4548.0   \n\n                                 Produto       Fabricante            Marca  \\\n0  Adventure Works Laptop15.4W M1548 Red  Adventure Works  Adventure Works   \n\n    Classe  Cor    custo    lucro Tempo_envio  \n0  Regular  Red  2091.48  2456.52     20 days  ",
      "text/html": "<div>\n<style scoped>\n    .dataframe tbody tr th:only-of-type {\n        vertical-align: middle;\n    }\n\n    .dataframe tbody tr th {\n        vertical-align: top;\n    }\n\n    .dataframe thead th {\n        text-align: right;\n    }\n</style>\n<table border=\"1\" class=\"dataframe\">\n  <thead>\n    <tr style=\"text-align: right;\">\n      <th></th>\n      <th>Data Venda</th>\n      <th>Data Envio</th>\n      <th>ID Loja</th>\n      <th>ID Produto</th>\n      <th>ID Cliente</th>\n      <th>No. Venda</th>\n      <th>Custo Unitário</th>\n      <th>Preço Unitário</th>\n      <th>Quantidade</th>\n      <th>Valor Desconto</th>\n      <th>Valor Venda</th>\n      <th>Produto</th>\n      <th>Fabricante</th>\n      <th>Marca</th>\n      <th>Classe</th>\n      <th>Cor</th>\n      <th>custo</th>\n      <th>lucro</th>\n      <th>Tempo_envio</th>\n    </tr>\n  </thead>\n  <tbody>\n    <tr>\n      <th>0</th>\n      <td>2008-05-09</td>\n      <td>2008-05-29</td>\n      <td>199</td>\n      <td>384</td>\n      <td>18839</td>\n      <td>200805093CS607</td>\n      <td>348.58</td>\n      <td>758.0</td>\n      <td>6</td>\n      <td>0.0</td>\n      <td>4548.0</td>\n      <td>Adventure Works Laptop15.4W M1548 Red</td>\n      <td>Adventure Works</td>\n      <td>Adventure Works</td>\n      <td>Regular</td>\n      <td>Red</td>\n      <td>2091.48</td>\n      <td>2456.52</td>\n      <td>20 days</td>\n    </tr>\n  </tbody>\n</table>\n</div>"
     },
     "execution_count": 17,
     "metadata": {},
     "output_type": "execute_result"
    }
   ]
  },
  {
   "cell_type": "markdown",
   "metadata": {
    "id": "tYKqnysZthDh",
    "colab_type": "text",
    "pycharm": {
     "name": "#%% md\n"
    }
   },
   "source": [
    "**Agora, queremos saber a média do tempo de envio para cada Marca, e para isso precisamos transformar a coluna Tempo_envio em númerica**"
   ]
  },
  {
   "cell_type": "code",
   "metadata": {
    "id": "eUAJwu45uVV-",
    "colab_type": "code",
    "colab": {},
    "pycharm": {
     "name": "#%%\n"
    }
   },
   "source": [
    "#Extraindo apenas os dias\n",
    "df[\"Tempo_envio\"] = (df[\"Data Envio\"] - df[\"Data Venda\"]).dt.days"
   ],
   "execution_count": 18,
   "outputs": []
  },
  {
   "cell_type": "code",
   "metadata": {
    "id": "MngNW5dZxjh_",
    "colab_type": "code",
    "outputId": "ce20f74d-8730-463e-ed5e-b0a40104bcd7",
    "colab": {
     "base_uri": "https://localhost:8080/",
     "height": 168
    },
    "pycharm": {
     "name": "#%%\n"
    }
   },
   "source": [
    "df.head(1)"
   ],
   "execution_count": 19,
   "outputs": [
    {
     "data": {
      "text/plain": "  Data Venda Data Envio  ID Loja  ID Produto  ID Cliente       No. Venda  \\\n0 2008-05-09 2008-05-29      199         384       18839  200805093CS607   \n\n   Custo Unitário  Preço Unitário  Quantidade  Valor Desconto  Valor Venda  \\\n0          348.58           758.0           6             0.0       4548.0   \n\n                                 Produto       Fabricante            Marca  \\\n0  Adventure Works Laptop15.4W M1548 Red  Adventure Works  Adventure Works   \n\n    Classe  Cor    custo    lucro  Tempo_envio  \n0  Regular  Red  2091.48  2456.52           20  ",
      "text/html": "<div>\n<style scoped>\n    .dataframe tbody tr th:only-of-type {\n        vertical-align: middle;\n    }\n\n    .dataframe tbody tr th {\n        vertical-align: top;\n    }\n\n    .dataframe thead th {\n        text-align: right;\n    }\n</style>\n<table border=\"1\" class=\"dataframe\">\n  <thead>\n    <tr style=\"text-align: right;\">\n      <th></th>\n      <th>Data Venda</th>\n      <th>Data Envio</th>\n      <th>ID Loja</th>\n      <th>ID Produto</th>\n      <th>ID Cliente</th>\n      <th>No. Venda</th>\n      <th>Custo Unitário</th>\n      <th>Preço Unitário</th>\n      <th>Quantidade</th>\n      <th>Valor Desconto</th>\n      <th>Valor Venda</th>\n      <th>Produto</th>\n      <th>Fabricante</th>\n      <th>Marca</th>\n      <th>Classe</th>\n      <th>Cor</th>\n      <th>custo</th>\n      <th>lucro</th>\n      <th>Tempo_envio</th>\n    </tr>\n  </thead>\n  <tbody>\n    <tr>\n      <th>0</th>\n      <td>2008-05-09</td>\n      <td>2008-05-29</td>\n      <td>199</td>\n      <td>384</td>\n      <td>18839</td>\n      <td>200805093CS607</td>\n      <td>348.58</td>\n      <td>758.0</td>\n      <td>6</td>\n      <td>0.0</td>\n      <td>4548.0</td>\n      <td>Adventure Works Laptop15.4W M1548 Red</td>\n      <td>Adventure Works</td>\n      <td>Adventure Works</td>\n      <td>Regular</td>\n      <td>Red</td>\n      <td>2091.48</td>\n      <td>2456.52</td>\n      <td>20</td>\n    </tr>\n  </tbody>\n</table>\n</div>"
     },
     "execution_count": 19,
     "metadata": {},
     "output_type": "execute_result"
    }
   ]
  },
  {
   "cell_type": "code",
   "metadata": {
    "id": "k9le4YEvxlow",
    "colab_type": "code",
    "outputId": "4fa5b1a9-e7c4-43ba-f074-7e539c3faf8e",
    "colab": {
     "base_uri": "https://localhost:8080/",
     "height": 34
    },
    "pycharm": {
     "name": "#%%\n"
    }
   },
   "source": [
    "#Verificando o tipo da coluna Tempo_envio\n",
    "df[\"Tempo_envio\"].dtype"
   ],
   "execution_count": 20,
   "outputs": [
    {
     "data": {
      "text/plain": "dtype('int64')"
     },
     "execution_count": 20,
     "metadata": {},
     "output_type": "execute_result"
    }
   ]
  },
  {
   "cell_type": "code",
   "metadata": {
    "id": "VtCqhtr60byy",
    "colab_type": "code",
    "outputId": "8f08f2ff-50b9-40c3-b103-153a19a4e335",
    "colab": {
     "base_uri": "https://localhost:8080/",
     "height": 102
    },
    "pycharm": {
     "name": "#%%\n"
    }
   },
   "source": [
    "#Média do tempo de envio por Marca\n",
    "df.groupby(\"Marca\")[\"Tempo_envio\"].mean()"
   ],
   "execution_count": 21,
   "outputs": [
    {
     "data": {
      "text/plain": "Marca\nAdventure Works    8.663866\nContoso            8.470930\nFabrikam           8.510121\nName: Tempo_envio, dtype: float64"
     },
     "execution_count": 21,
     "metadata": {},
     "output_type": "execute_result"
    }
   ]
  },
  {
   "cell_type": "markdown",
   "metadata": {
    "id": "I1sg7kwKjuU1",
    "colab_type": "text",
    "pycharm": {
     "name": "#%% md\n"
    }
   },
   "source": [
    " **Missing Values**"
   ]
  },
  {
   "cell_type": "code",
   "metadata": {
    "id": "a26UV-kTjmog",
    "colab_type": "code",
    "outputId": "2db6fd94-9426-4085-c484-81ac68e32e6c",
    "colab": {
     "base_uri": "https://localhost:8080/",
     "height": 357
    },
    "pycharm": {
     "name": "#%%\n"
    }
   },
   "source": [
    "#Verificando se temos dados faltantes\n",
    "df.isnull().sum()"
   ],
   "execution_count": 22,
   "outputs": [
    {
     "data": {
      "text/plain": "Data Venda        0\nData Envio        0\nID Loja           0\nID Produto        0\nID Cliente        0\nNo. Venda         0\nCusto Unitário    0\nPreço Unitário    0\nQuantidade        0\nValor Desconto    0\nValor Venda       0\nProduto           0\nFabricante        0\nMarca             0\nClasse            0\nCor               0\ncusto             0\nlucro             0\nTempo_envio       0\ndtype: int64"
     },
     "execution_count": 22,
     "metadata": {},
     "output_type": "execute_result"
    }
   ]
  },
  {
   "cell_type": "markdown",
   "metadata": {
    "id": "Mh40m00N0lQE",
    "colab_type": "text",
    "pycharm": {
     "name": "#%% md\n"
    }
   },
   "source": [
    "**E, se a gente quiser saber o Lucro por Ano e Por Marca?**"
   ]
  },
  {
   "cell_type": "code",
   "metadata": {
    "id": "7CPhZjrJ00a1",
    "colab_type": "code",
    "outputId": "08a87137-f56d-4a34-891d-679beef065b8",
    "colab": {
     "base_uri": "https://localhost:8080/",
     "height": 153
    },
    "pycharm": {
     "name": "#%%\n"
    }
   },
   "source": [
    "#Vamos Agrupar por ano e marca\n",
    "df.groupby([df[\"Data Venda\"].dt.year, \"Marca\"])[\"lucro\"].sum()"
   ],
   "execution_count": 23,
   "outputs": [
    {
     "data": {
      "text/plain": "Data Venda  Marca          \n2008        Adventure Works    3.066412e+05\n            Contoso            5.641600e+04\n            Fabrikam           1.557021e+06\n2009        Adventure Works    4.053951e+05\n            Contoso            1.382590e+05\n            Fabrikam           1.034091e+06\nName: lucro, dtype: float64"
     },
     "execution_count": 23,
     "metadata": {},
     "output_type": "execute_result"
    }
   ]
  },
  {
   "cell_type": "code",
   "metadata": {
    "id": "kZ3lxKGabXeq",
    "colab_type": "code",
    "colab": {},
    "pycharm": {
     "name": "#%%\n"
    }
   },
   "source": [
    " pd.options.display.float_format = '{:20,.2f}'.format"
   ],
   "execution_count": 24,
   "outputs": []
  },
  {
   "cell_type": "code",
   "metadata": {
    "id": "knQfX6NC3GMc",
    "colab_type": "code",
    "outputId": "8030fd21-9a09-4637-fe4f-97361465cbf4",
    "colab": {
     "base_uri": "https://localhost:8080/",
     "height": 235
    },
    "pycharm": {
     "name": "#%%\n"
    }
   },
   "source": [
    "#Resetando o index\n",
    "lucro_ano = df.groupby([df[\"Data Venda\"].dt.year, \"Marca\"])[\"lucro\"].sum().reset_index()\n",
    "lucro_ano"
   ],
   "execution_count": 25,
   "outputs": [
    {
     "data": {
      "text/plain": "   Data Venda            Marca                lucro\n0        2008  Adventure Works           306,641.16\n1        2008          Contoso            56,416.00\n2        2008         Fabrikam         1,557,020.55\n3        2009  Adventure Works           405,395.08\n4        2009          Contoso           138,258.95\n5        2009         Fabrikam         1,034,091.35",
      "text/html": "<div>\n<style scoped>\n    .dataframe tbody tr th:only-of-type {\n        vertical-align: middle;\n    }\n\n    .dataframe tbody tr th {\n        vertical-align: top;\n    }\n\n    .dataframe thead th {\n        text-align: right;\n    }\n</style>\n<table border=\"1\" class=\"dataframe\">\n  <thead>\n    <tr style=\"text-align: right;\">\n      <th></th>\n      <th>Data Venda</th>\n      <th>Marca</th>\n      <th>lucro</th>\n    </tr>\n  </thead>\n  <tbody>\n    <tr>\n      <th>0</th>\n      <td>2008</td>\n      <td>Adventure Works</td>\n      <td>306,641.16</td>\n    </tr>\n    <tr>\n      <th>1</th>\n      <td>2008</td>\n      <td>Contoso</td>\n      <td>56,416.00</td>\n    </tr>\n    <tr>\n      <th>2</th>\n      <td>2008</td>\n      <td>Fabrikam</td>\n      <td>1,557,020.55</td>\n    </tr>\n    <tr>\n      <th>3</th>\n      <td>2009</td>\n      <td>Adventure Works</td>\n      <td>405,395.08</td>\n    </tr>\n    <tr>\n      <th>4</th>\n      <td>2009</td>\n      <td>Contoso</td>\n      <td>138,258.95</td>\n    </tr>\n    <tr>\n      <th>5</th>\n      <td>2009</td>\n      <td>Fabrikam</td>\n      <td>1,034,091.35</td>\n    </tr>\n  </tbody>\n</table>\n</div>"
     },
     "execution_count": 25,
     "metadata": {},
     "output_type": "execute_result"
    }
   ]
  },
  {
   "cell_type": "code",
   "metadata": {
    "id": "0xu9qx1x4WM6",
    "colab_type": "code",
    "outputId": "28166c13-06a7-4532-908a-2cd10156422b",
    "colab": {
     "base_uri": "https://localhost:8080/",
     "height": 204
    },
    "pycharm": {
     "name": "#%%\n"
    }
   },
   "source": [
    "#Qual o total de produtos vendidos?\n",
    "df.groupby(\"Produto\")[\"Quantidade\"].sum().sort_values(ascending=False)"
   ],
   "execution_count": 26,
   "outputs": [
    {
     "data": {
      "text/plain": "Produto\nHeadphone Adapter for Contoso Phone E130 Silver    25232\nHeadphone Adapter for Contoso Phone E130 White     25008\nAdventure Works Laptop15.4W M1548 Black             1089\nFabrikam Trendsetter 2/3'' 17mm X100 Grey           1087\nAdventure Works Laptop15.4W M1548 Red               1047\nFabrikam Trendsetter 2/3'' 17mm X100 Black           926\nFabrikam Trendsetter 1/3'' 8.5mm X200 Black          884\nFabrikam Trendsetter 1/3'' 8.5mm X200 Grey           845\nFabrikam Trendsetter 1/3'' 8.5mm X200 White          789\nName: Quantidade, dtype: int64"
     },
     "execution_count": 26,
     "metadata": {},
     "output_type": "execute_result"
    }
   ]
  },
  {
   "cell_type": "code",
   "metadata": {
    "id": "Ov8qN2bI56NI",
    "colab_type": "code",
    "outputId": "f7f81f4d-dd72-4500-dd5d-3459964fbaff",
    "colab": {
     "base_uri": "https://localhost:8080/",
     "height": 376
    },
    "pycharm": {
     "name": "#%%\n"
    }
   },
   "source": [
    "#Gráfico Total de produtos vendidos\n",
    "df.groupby(\"Produto\")[\"Quantidade\"].sum().sort_values(ascending=True).plot.barh(title=\"Total Produtos Vendidos\")\n",
    "plt.xlabel(\"Total\")\n",
    "plt.ylabel(\"Produto\");"
   ],
   "execution_count": 27,
   "outputs": [
    {
     "data": {
      "text/plain": "<Figure size 432x288 with 1 Axes>",
      "image/png": "[encoded data removed]"
     },
     "metadata": {
      "needs_background": "light"
     },
     "output_type": "display_data"
    }
   ]
  },
  {
   "cell_type": "code",
   "metadata": {
    "id": "qFQBaeXNcMd4",
    "colab_type": "code",
    "outputId": "bbe89a72-81a8-4a44-c93c-6b01de01621a",
    "colab": {
     "base_uri": "https://localhost:8080/",
     "height": 388
    },
    "pycharm": {
     "name": "#%%\n"
    }
   },
   "source": [
    "df.groupby(df[\"Data Venda\"].dt.year)[\"lucro\"].sum().plot.bar(title=\"Lucro x Ano\")\n",
    "plt.xlabel(\"Ano\")\n",
    "plt.ylabel(\"Receita\");"
   ],
   "execution_count": 28,
   "outputs": [
    {
     "data": {
      "text/plain": "<Figure size 432x288 with 1 Axes>",
      "image/png": "[encoded data removed]"
     },
     "metadata": {
      "needs_background": "light"
     },
     "output_type": "display_data"
    }
   ]
  },
  {
   "cell_type": "code",
   "metadata": {
    "id": "4-FPJ5dP5saX",
    "colab_type": "code",
    "outputId": "3f945085-2546-4643-86b3-bbb2f0f9d235",
    "colab": {
     "base_uri": "https://localhost:8080/",
     "height": 85
    },
    "pycharm": {
     "name": "#%%\n"
    }
   },
   "source": [
    "df.groupby(df[\"Data Venda\"].dt.year)[\"lucro\"].sum()"
   ],
   "execution_count": 29,
   "outputs": [
    {
     "data": {
      "text/plain": "Data Venda\n2008           1,920,077.71\n2009           1,577,745.38\nName: lucro, dtype: float64"
     },
     "execution_count": 29,
     "metadata": {},
     "output_type": "execute_result"
    }
   ]
  },
  {
   "cell_type": "code",
   "metadata": {
    "id": "qEjCs7y77966",
    "colab_type": "code",
    "colab": {},
    "pycharm": {
     "name": "#%%\n"
    }
   },
   "source": [
    "#Selecionando apenas as vendas de 2009\n",
    "df_2009 = df[df[\"Data Venda\"].dt.year == 2009]"
   ],
   "execution_count": 30,
   "outputs": []
  },
  {
   "cell_type": "code",
   "metadata": {
    "id": "GiL4JRnU_LSf",
    "colab_type": "code",
    "colab": {
     "base_uri": "https://localhost:8080/",
     "height": 496
    },
    "outputId": "f55f66df-5bd7-408b-9113-c7bf694fd2fb",
    "pycharm": {
     "name": "#%%\n"
    }
   },
   "source": [
    "df_2009.head()"
   ],
   "execution_count": 31,
   "outputs": [
    {
     "data": {
      "text/plain": "   Data Venda Data Envio  ID Loja  ID Produto  ID Cliente       No. Venda  \\\n11 2009-05-02 2009-05-14      199         384       18938  200905023CS847   \n12 2009-05-16 2009-05-27      306         384       19067  200905163CS746   \n13 2009-05-31 2009-06-12      306         384       19068  200905313CS748   \n14 2009-06-28 2009-07-11      199         384       18959  200906283CS870   \n15 2009-07-08 2009-07-12      306         384       19070  200907083CS757   \n\n         Custo Unitário       Preço Unitário  Quantidade       Valor Desconto  \\\n11               348.58               758.00           6                 0.00   \n12               348.58               758.00           6                 0.00   \n13               348.58               758.00           6                 0.00   \n14               348.58               758.00           6                 0.00   \n15               348.58               758.00           6                 0.00   \n\n            Valor Venda                                Produto  \\\n11             4,548.00  Adventure Works Laptop15.4W M1548 Red   \n12             4,548.00  Adventure Works Laptop15.4W M1548 Red   \n13             4,548.00  Adventure Works Laptop15.4W M1548 Red   \n14             4,548.00  Adventure Works Laptop15.4W M1548 Red   \n15             4,548.00  Adventure Works Laptop15.4W M1548 Red   \n\n         Fabricante            Marca   Classe  Cor                custo  \\\n11  Adventure Works  Adventure Works  Regular  Red             2,091.48   \n12  Adventure Works  Adventure Works  Regular  Red             2,091.48   \n13  Adventure Works  Adventure Works  Regular  Red             2,091.48   \n14  Adventure Works  Adventure Works  Regular  Red             2,091.48   \n15  Adventure Works  Adventure Works  Regular  Red             2,091.48   \n\n                  lucro  Tempo_envio  \n11             2,456.52           12  \n12             2,456.52           11  \n13             2,456.52           12  \n14             2,456.52           13  \n15             2,456.52            4  ",
      "text/html": "<div>\n<style scoped>\n    .dataframe tbody tr th:only-of-type {\n        vertical-align: middle;\n    }\n\n    .dataframe tbody tr th {\n        vertical-align: top;\n    }\n\n    .dataframe thead th {\n        text-align: right;\n    }\n</style>\n<table border=\"1\" class=\"dataframe\">\n  <thead>\n    <tr style=\"text-align: right;\">\n      <th></th>\n      <th>Data Venda</th>\n      <th>Data Envio</th>\n      <th>ID Loja</th>\n      <th>ID Produto</th>\n      <th>ID Cliente</th>\n      <th>No. Venda</th>\n      <th>Custo Unitário</th>\n      <th>Preço Unitário</th>\n      <th>Quantidade</th>\n      <th>Valor Desconto</th>\n      <th>Valor Venda</th>\n      <th>Produto</th>\n      <th>Fabricante</th>\n      <th>Marca</th>\n      <th>Classe</th>\n      <th>Cor</th>\n      <th>custo</th>\n      <th>lucro</th>\n      <th>Tempo_envio</th>\n    </tr>\n  </thead>\n  <tbody>\n    <tr>\n      <th>11</th>\n      <td>2009-05-02</td>\n      <td>2009-05-14</td>\n      <td>199</td>\n      <td>384</td>\n      <td>18938</td>\n      <td>200905023CS847</td>\n      <td>348.58</td>\n      <td>758.00</td>\n      <td>6</td>\n      <td>0.00</td>\n      <td>4,548.00</td>\n      <td>Adventure Works Laptop15.4W M1548 Red</td>\n      <td>Adventure Works</td>\n      <td>Adventure Works</td>\n      <td>Regular</td>\n      <td>Red</td>\n      <td>2,091.48</td>\n      <td>2,456.52</td>\n      <td>12</td>\n    </tr>\n    <tr>\n      <th>12</th>\n      <td>2009-05-16</td>\n      <td>2009-05-27</td>\n      <td>306</td>\n      <td>384</td>\n      <td>19067</td>\n      <td>200905163CS746</td>\n      <td>348.58</td>\n      <td>758.00</td>\n      <td>6</td>\n      <td>0.00</td>\n      <td>4,548.00</td>\n      <td>Adventure Works Laptop15.4W M1548 Red</td>\n      <td>Adventure Works</td>\n      <td>Adventure Works</td>\n      <td>Regular</td>\n      <td>Red</td>\n      <td>2,091.48</td>\n      <td>2,456.52</td>\n      <td>11</td>\n    </tr>\n    <tr>\n      <th>13</th>\n      <td>2009-05-31</td>\n      <td>2009-06-12</td>\n      <td>306</td>\n      <td>384</td>\n      <td>19068</td>\n      <td>200905313CS748</td>\n      <td>348.58</td>\n      <td>758.00</td>\n      <td>6</td>\n      <td>0.00</td>\n      <td>4,548.00</td>\n      <td>Adventure Works Laptop15.4W M1548 Red</td>\n      <td>Adventure Works</td>\n      <td>Adventure Works</td>\n      <td>Regular</td>\n      <td>Red</td>\n      <td>2,091.48</td>\n      <td>2,456.52</td>\n      <td>12</td>\n    </tr>\n    <tr>\n      <th>14</th>\n      <td>2009-06-28</td>\n      <td>2009-07-11</td>\n      <td>199</td>\n      <td>384</td>\n      <td>18959</td>\n      <td>200906283CS870</td>\n      <td>348.58</td>\n      <td>758.00</td>\n      <td>6</td>\n      <td>0.00</td>\n      <td>4,548.00</td>\n      <td>Adventure Works Laptop15.4W M1548 Red</td>\n      <td>Adventure Works</td>\n      <td>Adventure Works</td>\n      <td>Regular</td>\n      <td>Red</td>\n      <td>2,091.48</td>\n      <td>2,456.52</td>\n      <td>13</td>\n    </tr>\n    <tr>\n      <th>15</th>\n      <td>2009-07-08</td>\n      <td>2009-07-12</td>\n      <td>306</td>\n      <td>384</td>\n      <td>19070</td>\n      <td>200907083CS757</td>\n      <td>348.58</td>\n      <td>758.00</td>\n      <td>6</td>\n      <td>0.00</td>\n      <td>4,548.00</td>\n      <td>Adventure Works Laptop15.4W M1548 Red</td>\n      <td>Adventure Works</td>\n      <td>Adventure Works</td>\n      <td>Regular</td>\n      <td>Red</td>\n      <td>2,091.48</td>\n      <td>2,456.52</td>\n      <td>4</td>\n    </tr>\n  </tbody>\n</table>\n</div>"
     },
     "execution_count": 31,
     "metadata": {},
     "output_type": "execute_result"
    }
   ]
  },
  {
   "cell_type": "code",
   "metadata": {
    "id": "xaH-Ym6h_SG9",
    "colab_type": "code",
    "colab": {
     "base_uri": "https://localhost:8080/",
     "height": 376
    },
    "outputId": "1ea0cbdf-ecea-4722-e6c4-9e0557b931c1",
    "pycharm": {
     "name": "#%%\n"
    }
   },
   "source": [
    "df_2009.groupby(df_2009[\"Data Venda\"].dt.month)[\"lucro\"].sum().plot(title=\"Lucro x Mês\")\n",
    "plt.xlabel(\"Mês\")\n",
    "plt.ylabel(\"Lucro\");"
   ],
   "execution_count": 32,
   "outputs": [
    {
     "data": {
      "text/plain": "<Figure size 432x288 with 1 Axes>",
      "image/png": "[encoded data removed]"
     },
     "metadata": {
      "needs_background": "light"
     },
     "output_type": "display_data"
    }
   ]
  },
  {
   "cell_type": "code",
   "metadata": {
    "id": "8HDLr3pp_hqf",
    "colab_type": "code",
    "colab": {
     "base_uri": "https://localhost:8080/",
     "height": 376
    },
    "outputId": "e476ce16-0d5f-4bf6-c5c5-7cec1e4ec576",
    "pycharm": {
     "name": "#%%\n"
    }
   },
   "source": [
    "df_2009.groupby(\"Marca\")[\"lucro\"].sum().plot.bar(title=\"Lucro x Marca\")\n",
    "plt.xlabel(\"Marca\")\n",
    "plt.ylabel(\"Lucro\")\n",
    "plt.xticks(rotation='horizontal');"
   ],
   "execution_count": 33,
   "outputs": [
    {
     "data": {
      "text/plain": "<Figure size 432x288 with 1 Axes>",
      "image/png": "[encoded data removed]"
     },
     "metadata": {
      "needs_background": "light"
     },
     "output_type": "display_data"
    }
   ]
  },
  {
   "cell_type": "code",
   "metadata": {
    "id": "xguSC8ya_mr7",
    "colab_type": "code",
    "colab": {
     "base_uri": "https://localhost:8080/",
     "height": 376
    },
    "outputId": "bec6125e-6b51-4aac-b9df-d6826c26afdc",
    "pycharm": {
     "name": "#%%\n"
    }
   },
   "source": [
    "df_2009.groupby(\"Classe\")[\"lucro\"].sum().plot.bar(title=\"Lucro x Classe\")\n",
    "plt.xlabel(\"Classe\")\n",
    "plt.ylabel(\"Lucro\")\n",
    "plt.xticks(rotation='horizontal');"
   ],
   "execution_count": 34,
   "outputs": [
    {
     "data": {
      "text/plain": "<Figure size 432x288 with 1 Axes>",
      "image/png": "[encoded data removed]"
     },
     "metadata": {
      "needs_background": "light"
     },
     "output_type": "display_data"
    }
   ]
  },
  {
   "cell_type": "code",
   "metadata": {
    "id": "IbO8CjekDdbk",
    "colab_type": "code",
    "colab": {
     "base_uri": "https://localhost:8080/",
     "height": 170
    },
    "outputId": "0f917524-9158-48af-b8d2-a91dfa5d348b",
    "pycharm": {
     "name": "#%%\n"
    }
   },
   "source": [
    "df[\"Tempo_envio\"].describe()"
   ],
   "execution_count": 35,
   "outputs": [
    {
     "data": {
      "text/plain": "count                 904.00\nmean                    8.54\nstd                     3.06\nmin                     4.00\n25%                     6.00\n50%                     9.00\n75%                    11.00\nmax                    20.00\nName: Tempo_envio, dtype: float64"
     },
     "execution_count": 35,
     "metadata": {},
     "output_type": "execute_result"
    }
   ]
  },
  {
   "cell_type": "code",
   "metadata": {
    "id": "yVBuChl7D-LK",
    "colab_type": "code",
    "colab": {
     "base_uri": "https://localhost:8080/",
     "height": 347
    },
    "outputId": "4a661f48-67f7-414e-9993-941548179c6d",
    "pycharm": {
     "name": "#%%\n"
    }
   },
   "source": [
    "#Gráfico de Boxplot\n",
    "plt.boxplot(df[\"Tempo_envio\"]);"
   ],
   "execution_count": 36,
   "outputs": [
    {
     "data": {
      "text/plain": "<Figure size 432x288 with 1 Axes>",
      "image/png": "[encoded data removed]"
     },
     "metadata": {
      "needs_background": "light"
     },
     "output_type": "display_data"
    }
   ]
  },
  {
   "cell_type": "code",
   "metadata": {
    "id": "AAso8LU5GiFN",
    "colab_type": "code",
    "colab": {
     "base_uri": "https://localhost:8080/",
     "height": 347
    },
    "outputId": "69919c67-916c-490c-a647-1462e363612f",
    "pycharm": {
     "name": "#%%\n"
    }
   },
   "source": [
    "#Histograma\n",
    "plt.hist(df[\"Tempo_envio\"]);"
   ],
   "execution_count": 37,
   "outputs": [
    {
     "data": {
      "text/plain": "<Figure size 432x288 with 1 Axes>",
      "image/png": "[encoded data removed]"
     },
     "metadata": {
      "needs_background": "light"
     },
     "output_type": "display_data"
    }
   ]
  },
  {
   "cell_type": "code",
   "metadata": {
    "id": "hkxhLlATHMN3",
    "colab_type": "code",
    "colab": {
     "base_uri": "https://localhost:8080/",
     "height": 34
    },
    "outputId": "c5e19e4f-d830-416f-ce78-7367926adb04",
    "pycharm": {
     "name": "#%%\n"
    }
   },
   "source": [
    "#Tempo mínimo de envio\n",
    "df[\"Tempo_envio\"].min()"
   ],
   "execution_count": 38,
   "outputs": [
    {
     "data": {
      "text/plain": "4"
     },
     "execution_count": 38,
     "metadata": {},
     "output_type": "execute_result"
    }
   ]
  },
  {
   "cell_type": "code",
   "metadata": {
    "id": "qg1q3fAKIDtM",
    "colab_type": "code",
    "colab": {
     "base_uri": "https://localhost:8080/",
     "height": 34
    },
    "outputId": "9f4667ac-1557-4591-9fdc-5436c14099c5",
    "pycharm": {
     "name": "#%%\n"
    }
   },
   "source": [
    "#Tempo máximo de envio\n",
    "df['Tempo_envio'].max()"
   ],
   "execution_count": 39,
   "outputs": [
    {
     "data": {
      "text/plain": "20"
     },
     "execution_count": 39,
     "metadata": {},
     "output_type": "execute_result"
    }
   ]
  },
  {
   "cell_type": "code",
   "metadata": {
    "id": "BiOyhekfIgLb",
    "colab_type": "code",
    "colab": {
     "base_uri": "https://localhost:8080/",
     "height": 168
    },
    "outputId": "732adad6-aa24-4067-a926-7aacf59992e0",
    "pycharm": {
     "name": "#%%\n"
    }
   },
   "source": [
    "#Identificando o Outlier\n",
    "df[df[\"Tempo_envio\"] == 20]"
   ],
   "execution_count": 40,
   "outputs": [
    {
     "data": {
      "text/plain": "  Data Venda Data Envio  ID Loja  ID Produto  ID Cliente       No. Venda  \\\n0 2008-05-09 2008-05-29      199         384       18839  200805093CS607   \n\n        Custo Unitário       Preço Unitário  Quantidade       Valor Desconto  \\\n0               348.58               758.00           6                 0.00   \n\n           Valor Venda                                Produto  \\\n0             4,548.00  Adventure Works Laptop15.4W M1548 Red   \n\n        Fabricante            Marca   Classe  Cor                custo  \\\n0  Adventure Works  Adventure Works  Regular  Red             2,091.48   \n\n                 lucro  Tempo_envio  \n0             2,456.52           20  ",
      "text/html": "<div>\n<style scoped>\n    .dataframe tbody tr th:only-of-type {\n        vertical-align: middle;\n    }\n\n    .dataframe tbody tr th {\n        vertical-align: top;\n    }\n\n    .dataframe thead th {\n        text-align: right;\n    }\n</style>\n<table border=\"1\" class=\"dataframe\">\n  <thead>\n    <tr style=\"text-align: right;\">\n      <th></th>\n      <th>Data Venda</th>\n      <th>Data Envio</th>\n      <th>ID Loja</th>\n      <th>ID Produto</th>\n      <th>ID Cliente</th>\n      <th>No. Venda</th>\n      <th>Custo Unitário</th>\n      <th>Preço Unitário</th>\n      <th>Quantidade</th>\n      <th>Valor Desconto</th>\n      <th>Valor Venda</th>\n      <th>Produto</th>\n      <th>Fabricante</th>\n      <th>Marca</th>\n      <th>Classe</th>\n      <th>Cor</th>\n      <th>custo</th>\n      <th>lucro</th>\n      <th>Tempo_envio</th>\n    </tr>\n  </thead>\n  <tbody>\n    <tr>\n      <th>0</th>\n      <td>2008-05-09</td>\n      <td>2008-05-29</td>\n      <td>199</td>\n      <td>384</td>\n      <td>18839</td>\n      <td>200805093CS607</td>\n      <td>348.58</td>\n      <td>758.00</td>\n      <td>6</td>\n      <td>0.00</td>\n      <td>4,548.00</td>\n      <td>Adventure Works Laptop15.4W M1548 Red</td>\n      <td>Adventure Works</td>\n      <td>Adventure Works</td>\n      <td>Regular</td>\n      <td>Red</td>\n      <td>2,091.48</td>\n      <td>2,456.52</td>\n      <td>20</td>\n    </tr>\n  </tbody>\n</table>\n</div>"
     },
     "execution_count": 40,
     "metadata": {},
     "output_type": "execute_result"
    }
   ]
  },
  {
   "cell_type": "code",
   "metadata": {
    "id": "xL5IKMeeLI6v",
    "colab_type": "code",
    "colab": {},
    "pycharm": {
     "name": "#%%\n"
    }
   },
   "source": [
    "df.to_csv(\"df_vendas_novo.csv\", index=False)"
   ],
   "execution_count": 41,
   "outputs": []
  },
  {
   "cell_type": "code",
   "metadata": {
    "id": "NLtTuecu62_h",
    "colab_type": "code",
    "colab": {},
    "pycharm": {
     "name": "#%%\n"
    }
   },
   "source": [],
   "execution_count": 41,
   "outputs": []
  }
 ]
}